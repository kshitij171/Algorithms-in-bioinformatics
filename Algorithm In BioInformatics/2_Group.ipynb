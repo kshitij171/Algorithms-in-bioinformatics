{
  "cells": [
    {
      "attachments": {},
      "cell_type": "markdown",
      "metadata": {
        "id": "25_KYGWxxIiE"
      },
      "source": [
        "Motif Discovery In Dna/Protein Sequences Using Genetic ALgorithm\n",
        "\n",
        "Group 3\n",
        "Kshitij Kumar -2020514\n",
        "Debjit Pramanik -2020504\n",
        "Mithun -2020522\n",
        "Amit Malik -2020493\n",
        "Kunal Tomar -2020515\n"
      ]
    },
    {
      "cell_type": "markdown",
      "metadata": {
        "id": "jJF9-AGUxIiJ"
      },
      "source": [
        "Introduction\n",
        "\n",
        "We will be using genetic algorithm ( a heuristic search algorithm ) to predict potential motifs in sequences. We gonna use various function /parameters to genetic algorithm to evaluate competitveness of motif and then predict better motif with better efficiency.\n"
      ]
    },
    {
      "cell_type": "markdown",
      "metadata": {
        "id": "sCadASuCx-Uq"
      },
      "source": [
        "**TOPIC EXPLAINATION**:\n",
        "\n",
        "As we know that the genetic algorithm's, are most preferred methods in the search and optimization problems. So for the motif discovery in Dna sequences, we can use genetic algorithm in which we search a potential motif in the group of dna sequence then some operations like mutation , crossover is performed with help of sequence matrix which generated from matched sequences. After some rearrangement and preprocessing methods are used to reduce the chances of less stable motif being selected. So we can say the genetic algorithm can better evaluate the motif instances during evolution process instead of Gibbs sampling algorithm.\n"
      ]
    },
    {
      "cell_type": "code",
      "execution_count": null,
      "metadata": {
        "id": "hkGwsBMyxIiK"
      },
      "outputs": [],
      "source": [
        "import random"
      ]
    },
    {
      "cell_type": "markdown",
      "metadata": {
        "id": "Pz7yHgsixIiM"
      },
      "source": [
        "Functions Required to evaluate motif\n",
        "\n",
        "Fitness score function - to compare motif with sequence and then assign a best score "
      ]
    },
    {
      "cell_type": "markdown",
      "metadata": {
        "id": "nMvq6fcJxIiO"
      },
      "source": [
        "Fucntions to be used further as needed"
      ]
    },
    {
      "cell_type": "code",
      "execution_count": null,
      "metadata": {
        "id": "AAAvRVzvxIiO"
      },
      "outputs": [],
      "source": [
        "def compare(Pn, seq, j):\n",
        "    if Pn[j] == seq[j]:\n",
        "        return True\n",
        "    else:\n",
        "        return False\n",
        "\n",
        "def maxx(score, max_score):\n",
        "    if score > max_score:\n",
        "        return True\n",
        "    else:\n",
        "        return False\n",
        "\n",
        "def FitnessScore(Sn, Pn):       #function to calculate fittness of motif by comparing with sequence\n",
        "    pnl = len(Pn)\n",
        "    max_score = 0\n",
        "    for i in range(len(Sn)-pnl+1):\n",
        "        score = 0\n",
        "        seq = Sn[i:i+pnl]\n",
        "        for j in range(pnl):\n",
        "            res = compare(Pn, seq, j)\n",
        "            if res is True:\n",
        "                if Pn[j] == 'A' or Pn[j] == 'T' or Pn[j] == 'G' or Pn[j] == 'C':\n",
        "                    score+=1/pnl\n",
        "                if Pn[j] == 'R' or Pn[j] == 'Y':\n",
        "                    score+=0.5/pnl\n",
        "                if Pn[j] == 'M' or Pn[j] == 'W' or Pn[j] == 'S' or Pn[j] == 'K':\n",
        "                    score+=0.2/pnl\n",
        "                if Pn[j] == 'B' or Pn[j] == 'V' or Pn[j] == 'H' or Pn[j] == 'D':\n",
        "                    score+=0.1/pnl\n",
        "        temp = maxx(score, max_score)\n",
        "        if temp is True:\n",
        "            max_score = score\n",
        "    return(max_score)\n",
        "\n",
        "def TotalFitnessScore(sequences, Pn):\n",
        "    L, Ts, i = len(sequences), 0, 0\n",
        "    while(i in range(L)):\n",
        "        Ts += FitnessScore(sequences[i], Pn)\n",
        "        i+=1\n",
        "    return Ts\n"
      ]
    },
    {
      "cell_type": "markdown",
      "metadata": {
        "id": "XwwdRUSZxIiQ"
      },
      "source": [
        "Gneration of motif \n",
        "\n",
        "We will generate 100 motif of sequence length =10 in provided input sequence"
      ]
    },
    {
      "cell_type": "code",
      "execution_count": null,
      "metadata": {
        "id": "OEGE2LYCxIiU"
      },
      "outputs": [],
      "source": [
        "def randomizedmotifsearch(lines):\n",
        "    motifs = []\n",
        "    for n in lines:\n",
        "        for k in range(100):        #generating 100 random motif from the input provided of length 10. \n",
        "            i = random.randint(0, len(n)-12)\n",
        "            lmer=n[i:i+10]\n",
        "            motifs.append(lmer)     \n",
        "    return  motifs\n"
      ]
    },
    {
      "cell_type": "markdown",
      "metadata": {
        "id": "NKvHZpBdxIiU"
      },
      "source": [
        "Producing children motif from parent"
      ]
    },
    {
      "cell_type": "code",
      "execution_count": null,
      "metadata": {
        "id": "xNQUIipaxIiW"
      },
      "outputs": [],
      "source": [
        "def crossover(sTable):\n",
        "    Table=[]\n",
        "    for n in range(25):\n",
        "        k = random.randint(2, len(sTable[0][\"motif\"])-2)  #choosing a cut point\n",
        "        i = random.randint(1, len(sTable)-1)\n",
        "        j = random.randint(1, len(sTable)-1) \n",
        "        p1 = sTable[i][\"motif\"]\n",
        "        p2 = sTable[j][\"motif\"]\n",
        "                                #2 children are generated partly from each of the parents \n",
        "        o1=p1[:k+1]+p2[k+1:]\n",
        "        o2=p2[:k+1]+p1[k+1:]\n",
        "                    \n",
        "        Table.append(o1)\n",
        "        Table.append(o2)\n",
        "    \n",
        "    return  Table  \n",
        "\n",
        "def mutation(p):            #function to perform mutation by changing a particular character\n",
        "    randomChar = random.choice(['A', 'C', 'G', 'T'])\n",
        "    seq = list(p)\n",
        "    index = random.randint(3, len(p)-1)\n",
        "    seq[index] = randomChar\n",
        "    return \"\".join(seq)\n",
        "    "
      ]
    },
    {
      "cell_type": "markdown",
      "metadata": {
        "id": "H5GwE6-OxIiX"
      },
      "source": [
        "Use of Gentic algorithm "
      ]
    },
    {
      "cell_type": "code",
      "execution_count": null,
      "metadata": {
        "id": "eg8OnkPyxIiY"
      },
      "outputs": [],
      "source": [
        "def GeneticAlgorithm(parentTable, count,sequences):\n",
        "    if(count >= 50):\n",
        "        return parentTable\n",
        "    childTable=[]\n",
        "    # print(\"ParentTable:\\n\", parentTable)\n",
        "    tables = crossover(parentTable)        #generating 2 childern of parents via crossover\n",
        "    tables = [mutation(i) for i in tables]  #mutation performed in those children\n",
        "    # tables \n",
        "    for i in tables:\n",
        "        score = TotalFitnessScore(sequences, i)    \n",
        "        childTable.append({\"motif\":i,\"score\":score})\n",
        "    \n",
        "    childTable = sorted(childTable, key=lambda x: x['score'])\n",
        "    childTable[:10] = parentTable[-10:]   #replacing the 10 worst motifs of children with 10 best motifs of parent\n",
        "    childTable = sorted(childTable, key=lambda x: x['score'])   #sorting on the basis of score\n",
        "    if(childTable[-1]['score'] == parentTable[-1]['score']):\n",
        "        count+=10\n",
        "    \n",
        "    count+=1;\n",
        "    return GeneticAlgorithm(childTable, count,sequences)\n"
      ]
    },
    {
      "cell_type": "code",
      "execution_count": null,
      "metadata": {
        "id": "DhfoHpnmxIia"
      },
      "outputs": [],
      "source": [
        "file = open(\"gene.txt\")     #reading sequence from gene.txt , it can be a DNA or protein\n",
        "                            # sequence like the one mentioned in the below comment\n",
        "sequences = file.readlines()\n",
        "\n",
        "# AGAGGCGGAGCCGCTGTGGCACTGCTGCGCCTCTGCTGCGCCTCGGGTGTCTTTTGCGGCGGTGGGTCGC\n",
        "# CGCCGGGAGAAGCGTGAGGGGACAGATTTGTGACCGGCGCGGTTTTTGTCAGCTTACTCCGGCCAAAAAA\n",
        "# GAACTGCACCTCTGGAGCGGGTTAGTGGTGGTGGTAGTGGGTTGGGACGAGCGCGTCTTCCGCAGTCCCA\n",
        "# GTCCAGCGTGGCGGGGGAGCGCCTCACGCCCCGGGTCGCTGCCGCGGCTTCTTGCCCTTTTGTCTCTGCC\n",
        "# AACCCCCACCCATGCCTGAGAGAAAGGTCCTTGCCCGAAGGCAGATTTTCGCCAAGCAAATTCGAGCCCC\n",
        "# GCCCCTTCCCTGGGTCTCCATTTCCCGCCTCCGGCCCGGCCTTTGGGCTCCGCCTTCAGCTCAAGACTTA\n",
        "# ACTTCCCTCCCAGCTGTCCCAGATGACGCCATCTGAAATTTCTTGGAAACACGATCACTTTAACGGAATA\n",
        "# TTGCTGTTTTGGGGAAGTGTTTTACAGCTGCTGGGCACGCTGTATTTGCCTTACTTAAGCCCCTGGTAAT\n",
        "# TGCTGTATTCCGAAGACATGCTGATGGGAATTACCAGGCGGCGTTGGTCTCTAACTGGAGCCCTCTGTCC\n",
        "# CCACTAGCCACGCGTCACTGGTTAGCGTGATTGAAACTAAATCGTATGAAAATCCTCTTCTCTAGTCGCA\n",
        "# CTAGCCACGTTTCGAGTGCTTAATGTGGCTAGTGGCACCGGTTTGGACAGCACAGCTGTAAAATGTTCCC\n",
        "# ATCCTCACAGTAAGCTGTTACCGTTCCAGGAGATGGGACTGAATTAGAATTCAAACAAATTTTCCAGCGC\n",
        "# TTCTGAGTTTTACCTCAGTCACATAATAAGGAATGCATCCCTGTGTAAGTGCATTTTGGTCTTCTGTTTT\n",
        "# GCAGACTTATTTACCAAGCATTGGAGGAATATCGTAGGTAAAAATGCCTATTGGATCCAAAGAGAGGCCA\n",
        "# ACATTTTTTGAAATTTTTAAGACACGCTGCAACAAAGCAGGTATTGACAAATTTTATATAACTTTATAAA\n",
        "# TTACACCGAGAAAGTGTTTTCTAAAAAATGCTTGCTAAAAACCCAGTACGTCACAGTGTTGCTTAGAACC\n",
        "# ATAAACTGTTCCTTATGTGTGTATAAATCCAGTTAACAACATAATCATCGTTTGCAGGTTAACCACATGA\n",
        "# TAAATATAGAACGTCTAGTGGATAAAGAGGAAACTGGCCCCTTGACTAGCAGTAGGAACAATTACTAACA\n",
        "# AATCAGAAGCATTAATGTTACTTTATGGCAGAAGTTGTCCAACTTTTTGGTTTCAGTACTCCTTATACTC\n",
        "# TTAAAAATGATCTAGGACCCCCGGAGTGCTTTTGTTTATGTAGCTTACCATATTAGAAATTTAAAACTAA\n",
        "# GAATTTAAGGCTGGGCGTGGTGGCTCACGCCTGTAATCCCAGCACTTTGGGAGGCCGAGGTGGGCGGATC\n",
        "# ACTTGAGGCCAGAAGTTTGAGACCAGCCTGGCCAACATGGTGAAACCCTATCTCTACTAAAAATACAAAA\n",
        "# AATGTGCTGCGTGTGGTGGTGCGTGCCTGTAATCCCAGCTACACGGGAGGTGGAGGCAGGAGAATCGCTT\n",
        "# GAACCCTGGAGGCAGAGGTTGCAGTGAGCCAAGATCATGCCACTGCACTCTAGCCTGGGCCACATAGCAT\n",
        "# GACTCTGTCTCAAAACAAACAAACAAACAAAAAACTAAGAATTTAAAGTTAATTTACTTAAAAATAATGA\n",
        "# AAGCTAACCCATTGCATATTATCACAACATTCTTAGGAAAAATAACTTTTTGAAAACAAGTGAGTGGAAT\n",
        "# AGTTTTTACATTTTTGCAGTTCTCTTTAATGTCTGGCTAAATAGAGATAGCTGGATTCACTTATCTGTGT\n",
        "# CTAATCTGTTATTTTGGTAGAAGTATGTGAAAAAAAATTAACCTCACGTTGAAAAAAGGAATATTTTAAT\n",
        "# AGTTTTCAGTTACTTTTTGGTATTTTTCCTTGTACTTTGCATAGATTTTTCAAAGATCTAATAGATATAC\n",
        "# CATAGGTCTTTCCCATGTCGCAACATCATGCAGTGATTATTTGGAAGATAGTGGTGTTCTGAATTATACA\n",
        "# AAGTTTCCAAATATTGATAAATTGCATTAAACTATTTTAAAAATCTCATTCATTAATACCACCATGGATG\n",
        "# TCAGAAAAGTCTTTTAAGATTGGGTAGAAATGAGCCACTGGAAATTCTAATTTTCATTTGAAAGTTCACA\n",
        "# TTTTGTCATTGACAACAAACTGTTTTCCTTGCAGCAACAAGATCACTTCATTGATTTGTGAGAAAATGTC\n",
        "# TACCAAATTATTTAAGTTGAAATAACTTTGTCAGCTGTTCTTTCAAGTAAAAATGACTTTTCATTGAAAA\n",
        "# AATTGCTTGTTCAGATCACAGCTCAACATGAGTGCTTTTCTAGGCAGTATTGTACTTCAGTATGCAGAAG\n",
        "# TGCTTTATGTATGCTTCCTATTTTGTCAGAGATTATTAAAAGAAGTGCTAAAGCATTGAGCTTCGAAATT\n",
        "# AATTTTTACTGCTTCATTAGGACATTCTTACATTAAACTGGCATTATTATTACTATTATTTTTAACAAGG\n",
        "# ACACTCAGTGGTAAGGAATATAATGGCTACTAGTATTAGTTTGGTGCCACTGCCATAACTCATGCAAATG\n",
        "# TGCCAGCAGTTTTACCCAGCATCATCTTTGCACTGTTGATACAAATGTCAACATCATGAAAAAGGGAAAT\n",
        "# GATTCCATAGCGTTATTATGAAAGTAGTTTTGAACTGTAATGGTAGAGGATGAATAGCTCACAATACAAA\n",
        "# TTTGTCATTTCCCTTTAAGAGAGAATTCCCATTTTATGTGAGAGTCCACATGTTCCTCATACCCATAGTT\n",
        "# TGCCACATCTTGAGTACTCTTCAGAATTATTTGAATTTTTTGAATTTTATCTGTGGAATGTATTTTTTTT\n",
        "# TTTTTCTTTTTTGAGACACAGTCTTGCTCTGTTGCCCAGGCTGGAATGCAGTGGCGTGATCTCGGCTCAC\n",
        "# TGCAACCACCGCCTCCTGGGTTCAAGTGATTCTCCTGTGGCAGCCTCCGGAGTAGCTGGGACTACAGGCG\n",
        "# TGTGCCACCATGCTTGGCTAATTTTTTGTGTTTTTAGTAAAGATGGGGTTTCAACGTGTTAGCAAGGTTG\n",
        "# GTCTCGATCTGACCTCGTGATCTGCTCGCCTCAGCCTCCCAAAGTGTTGGGATTACAGGCGTGAGCCCCC\n",
        "# GCACCTGGCCGAATTTTATCGTGGAATGTATTCTTAATGTGAATAGTTTTTGATTCCGAACCATGAATAA"
      ]
    },
    {
      "cell_type": "markdown",
      "metadata": {
        "id": "Tt9_OeHDxIib"
      },
      "source": [
        "Generating random motifs from sequence input"
      ]
    },
    {
      "cell_type": "code",
      "execution_count": null,
      "metadata": {
        "id": "RY-2D65ixIic"
      },
      "outputs": [],
      "source": [
        "chars = ['A','C','G','T']\n",
        "scoreTable = []\n",
        "\n",
        "count = 0\n",
        "finalTable = []\n",
        "for i in randomizedmotifsearch(sequences):\n",
        "    score = TotalFitnessScore(sequences, i)    \n",
        "    scoreTable.append({\"motif\":i,\"score\":score})\n",
        "        \n",
        "scoreTable = sorted(scoreTable, key=lambda x: x['score'])   #sorting on the basis of score\n",
        "scoreTable = scoreTable[-50:]   #keeping top 50 motifs\n",
        "# scoreTable\n",
        "finalTable.append(GeneticAlgorithm(scoreTable, count,sequences)[-1])\n"
      ]
    },
    {
      "cell_type": "code",
      "execution_count": null,
      "metadata": {
        "id": "8u0D8oXgxIid",
        "outputId": "3e6ec086-71d7-4355-a1ae-27f9c55a38dd"
      },
      "outputs": [
        {
          "data": {
            "text/plain": [
              "{'motif': 'AATTTTTTGA', 'score': 31.499999999999996}"
            ]
          },
          "execution_count": 21,
          "metadata": {},
          "output_type": "execute_result"
        }
      ],
      "source": [
        "finalTable[-1]"
      ]
    },
    {
      "cell_type": "markdown",
      "metadata": {
        "id": "vPJeBa1BxIif"
      },
      "source": [
        "Creating random parent motifs"
      ]
    },
    {
      "cell_type": "code",
      "execution_count": null,
      "metadata": {
        "id": "yrBRq4lXxIif"
      },
      "outputs": [],
      "source": [
        "chars = ['A','C','G','T']\n",
        "scoreTable = []\n",
        "count = 0\n",
        "finalTable = []\n",
        "for i in range(100):\n",
        "    Pi = \"\".join(random.choices(chars, k=10)) #creating 100 random motifs of length 10 \n",
        "    score = TotalFitnessScore(sequences, Pi)    \n",
        "    scoreTable.append({\"motif\":Pi,\"score\":score})\n",
        "\n",
        "scoreTable = sorted(scoreTable, key=lambda x: x['score'])\n",
        "scoreTable = scoreTable[-50:]\n",
        "finalTable.append(GeneticAlgorithm(scoreTable, count,sequences)[-1])\n"
      ]
    },
    {
      "cell_type": "code",
      "execution_count": null,
      "metadata": {
        "id": "ttbq2sD1xIig",
        "outputId": "4ee8e3c9-9bc9-4f54-9f9c-2b9e69066876"
      },
      "outputs": [
        {
          "data": {
            "text/plain": [
              "{'motif': 'TTTTGGAAAT', 'score': 31.099999999999998}"
            ]
          },
          "execution_count": 23,
          "metadata": {},
          "output_type": "execute_result"
        }
      ],
      "source": [
        "finalTable[-1]"
      ]
    }
  ],
  "metadata": {
    "colab": {
      "provenance": []
    },
    "kernelspec": {
      "display_name": "Python 3",
      "language": "python",
      "name": "python3"
    },
    "language_info": {
      "codemirror_mode": {
        "name": "ipython",
        "version": 3
      },
      "file_extension": ".py",
      "mimetype": "text/x-python",
      "name": "python",
      "nbconvert_exporter": "python",
      "pygments_lexer": "ipython3",
      "version": "3.10.2"
    },
    "orig_nbformat": 4,
    "vscode": {
      "interpreter": {
        "hash": "ea95c43063b92d41adec3398bc725756afb659bb66ae81e9e811dea50f9ef364"
      }
    }
  },
  "nbformat": 4,
  "nbformat_minor": 0
}
